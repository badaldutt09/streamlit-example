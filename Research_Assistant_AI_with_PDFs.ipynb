{
  "nbformat": 4,
  "nbformat_minor": 0,
  "metadata": {
    "colab": {
      "provenance": [],
      "include_colab_link": true
    },
    "kernelspec": {
      "name": "python3",
      "display_name": "Python 3"
    },
    "language_info": {
      "name": "python"
    },
    "widgets": {
      "application/vnd.jupyter.widget-state+json": {
        "38f8c758050342b38fa79ec97c445678": {
          "model_module": "@jupyter-widgets/controls",
          "model_name": "TextModel",
          "model_module_version": "1.5.0",
          "state": {
            "_dom_classes": [],
            "_model_module": "@jupyter-widgets/controls",
            "_model_module_version": "1.5.0",
            "_model_name": "TextModel",
            "_view_count": null,
            "_view_module": "@jupyter-widgets/controls",
            "_view_module_version": "1.5.0",
            "_view_name": "TextView",
            "continuous_update": true,
            "description": "",
            "description_tooltip": null,
            "disabled": false,
            "layout": "IPY_MODEL_2ced69eb248f4267acb1a1a671448f05",
            "placeholder": "Please enter your question:",
            "style": "IPY_MODEL_07128b25c41d4576b364e18ba05c92f6",
            "value": ""
          }
        },
        "2ced69eb248f4267acb1a1a671448f05": {
          "model_module": "@jupyter-widgets/base",
          "model_name": "LayoutModel",
          "model_module_version": "1.2.0",
          "state": {
            "_model_module": "@jupyter-widgets/base",
            "_model_module_version": "1.2.0",
            "_model_name": "LayoutModel",
            "_view_count": null,
            "_view_module": "@jupyter-widgets/base",
            "_view_module_version": "1.2.0",
            "_view_name": "LayoutView",
            "align_content": null,
            "align_items": null,
            "align_self": null,
            "border": null,
            "bottom": null,
            "display": null,
            "flex": null,
            "flex_flow": null,
            "grid_area": null,
            "grid_auto_columns": null,
            "grid_auto_flow": null,
            "grid_auto_rows": null,
            "grid_column": null,
            "grid_gap": null,
            "grid_row": null,
            "grid_template_areas": null,
            "grid_template_columns": null,
            "grid_template_rows": null,
            "height": null,
            "justify_content": null,
            "justify_items": null,
            "left": null,
            "margin": null,
            "max_height": null,
            "max_width": null,
            "min_height": null,
            "min_width": null,
            "object_fit": null,
            "object_position": null,
            "order": null,
            "overflow": null,
            "overflow_x": null,
            "overflow_y": null,
            "padding": null,
            "right": null,
            "top": null,
            "visibility": null,
            "width": null
          }
        },
        "07128b25c41d4576b364e18ba05c92f6": {
          "model_module": "@jupyter-widgets/controls",
          "model_name": "DescriptionStyleModel",
          "model_module_version": "1.5.0",
          "state": {
            "_model_module": "@jupyter-widgets/controls",
            "_model_module_version": "1.5.0",
            "_model_name": "DescriptionStyleModel",
            "_view_count": null,
            "_view_module": "@jupyter-widgets/base",
            "_view_module_version": "1.2.0",
            "_view_name": "StyleView",
            "description_width": ""
          }
        },
        "9bf0e61cc32e467190e3c8e0808ca407": {
          "model_module": "@jupyter-widgets/controls",
          "model_name": "HTMLModel",
          "model_module_version": "1.5.0",
          "state": {
            "_dom_classes": [],
            "_model_module": "@jupyter-widgets/controls",
            "_model_module_version": "1.5.0",
            "_model_name": "HTMLModel",
            "_view_count": null,
            "_view_module": "@jupyter-widgets/controls",
            "_view_module_version": "1.5.0",
            "_view_name": "HTMLView",
            "description": "",
            "description_tooltip": null,
            "layout": "IPY_MODEL_c37cc415f0de41ce873bafacc7ff00ba",
            "placeholder": "​",
            "style": "IPY_MODEL_276bbbc4fbc3444993ab861f5c7a233e",
            "value": "<b>User:</b> What are tectonic elements of Andaman Bsain"
          }
        },
        "c37cc415f0de41ce873bafacc7ff00ba": {
          "model_module": "@jupyter-widgets/base",
          "model_name": "LayoutModel",
          "model_module_version": "1.2.0",
          "state": {
            "_model_module": "@jupyter-widgets/base",
            "_model_module_version": "1.2.0",
            "_model_name": "LayoutModel",
            "_view_count": null,
            "_view_module": "@jupyter-widgets/base",
            "_view_module_version": "1.2.0",
            "_view_name": "LayoutView",
            "align_content": null,
            "align_items": null,
            "align_self": null,
            "border": null,
            "bottom": null,
            "display": null,
            "flex": null,
            "flex_flow": null,
            "grid_area": null,
            "grid_auto_columns": null,
            "grid_auto_flow": null,
            "grid_auto_rows": null,
            "grid_column": null,
            "grid_gap": null,
            "grid_row": null,
            "grid_template_areas": null,
            "grid_template_columns": null,
            "grid_template_rows": null,
            "height": null,
            "justify_content": null,
            "justify_items": null,
            "left": null,
            "margin": null,
            "max_height": null,
            "max_width": null,
            "min_height": null,
            "min_width": null,
            "object_fit": null,
            "object_position": null,
            "order": null,
            "overflow": null,
            "overflow_x": null,
            "overflow_y": null,
            "padding": null,
            "right": null,
            "top": null,
            "visibility": null,
            "width": null
          }
        },
        "276bbbc4fbc3444993ab861f5c7a233e": {
          "model_module": "@jupyter-widgets/controls",
          "model_name": "DescriptionStyleModel",
          "model_module_version": "1.5.0",
          "state": {
            "_model_module": "@jupyter-widgets/controls",
            "_model_module_version": "1.5.0",
            "_model_name": "DescriptionStyleModel",
            "_view_count": null,
            "_view_module": "@jupyter-widgets/base",
            "_view_module_version": "1.2.0",
            "_view_name": "StyleView",
            "description_width": ""
          }
        },
        "8fd90e16d1754bb99b53e71b540f4e78": {
          "model_module": "@jupyter-widgets/controls",
          "model_name": "HTMLModel",
          "model_module_version": "1.5.0",
          "state": {
            "_dom_classes": [],
            "_model_module": "@jupyter-widgets/controls",
            "_model_module_version": "1.5.0",
            "_model_name": "HTMLModel",
            "_view_count": null,
            "_view_module": "@jupyter-widgets/controls",
            "_view_module_version": "1.5.0",
            "_view_name": "HTMLView",
            "description": "",
            "description_tooltip": null,
            "layout": "IPY_MODEL_7dae3aae892140eb9579bbd742262a5d",
            "placeholder": "​",
            "style": "IPY_MODEL_c195bfdd2e3648d6aa2026b5b7859fac",
            "value": "<b><font color=\"blue\">Chatbot:</font></b> The tectonic elements of the Andaman Basin include:\n\n1. Trench: The subduction zone where the Indian Oceanic Plate is subducting beneath the South East Asian Plate.\n\n2. Accretionary complex: A zone of sedimentary rocks and tectonic melange that has been accreted onto the overriding plate.\n\n3. Forearc subbasin: A basin located between the accretionary complex and the volcanic arc, characterized by sedimentation in a marine environment.\n\n4. Volcanic arc: A volcanic chain formed by the subduction of the Indian Oceanic Plate, characterized by volcanic activity and the formation of volcanic islands.\n\n5. Backarc basin: A basin located behind the volcanic arc, formed by extensional forces and characterized by sedimentation and the presence of hydrocarbon potential.\n\n6. Central Andaman sub Basin (CAB): A sub-basin within the Andaman Basin, located in the central part of the region.\n\nThese tectonic elements play a significant role in the geological evolution and hydrocarbon potential of the Andaman Basin."
          }
        },
        "7dae3aae892140eb9579bbd742262a5d": {
          "model_module": "@jupyter-widgets/base",
          "model_name": "LayoutModel",
          "model_module_version": "1.2.0",
          "state": {
            "_model_module": "@jupyter-widgets/base",
            "_model_module_version": "1.2.0",
            "_model_name": "LayoutModel",
            "_view_count": null,
            "_view_module": "@jupyter-widgets/base",
            "_view_module_version": "1.2.0",
            "_view_name": "LayoutView",
            "align_content": null,
            "align_items": null,
            "align_self": null,
            "border": null,
            "bottom": null,
            "display": null,
            "flex": null,
            "flex_flow": null,
            "grid_area": null,
            "grid_auto_columns": null,
            "grid_auto_flow": null,
            "grid_auto_rows": null,
            "grid_column": null,
            "grid_gap": null,
            "grid_row": null,
            "grid_template_areas": null,
            "grid_template_columns": null,
            "grid_template_rows": null,
            "height": null,
            "justify_content": null,
            "justify_items": null,
            "left": null,
            "margin": null,
            "max_height": null,
            "max_width": null,
            "min_height": null,
            "min_width": null,
            "object_fit": null,
            "object_position": null,
            "order": null,
            "overflow": null,
            "overflow_x": null,
            "overflow_y": null,
            "padding": null,
            "right": null,
            "top": null,
            "visibility": null,
            "width": null
          }
        },
        "c195bfdd2e3648d6aa2026b5b7859fac": {
          "model_module": "@jupyter-widgets/controls",
          "model_name": "DescriptionStyleModel",
          "model_module_version": "1.5.0",
          "state": {
            "_model_module": "@jupyter-widgets/controls",
            "_model_module_version": "1.5.0",
            "_model_name": "DescriptionStyleModel",
            "_view_count": null,
            "_view_module": "@jupyter-widgets/base",
            "_view_module_version": "1.2.0",
            "_view_name": "StyleView",
            "description_width": ""
          }
        },
        "8c6c9975c561437e933d682823fadc98": {
          "model_module": "@jupyter-widgets/controls",
          "model_name": "HTMLModel",
          "model_module_version": "1.5.0",
          "state": {
            "_dom_classes": [],
            "_model_module": "@jupyter-widgets/controls",
            "_model_module_version": "1.5.0",
            "_model_name": "HTMLModel",
            "_view_count": null,
            "_view_module": "@jupyter-widgets/controls",
            "_view_module_version": "1.5.0",
            "_view_name": "HTMLView",
            "description": "",
            "description_tooltip": null,
            "layout": "IPY_MODEL_137de758796645a6a0a1e00a9736b46c",
            "placeholder": "​",
            "style": "IPY_MODEL_cbdd867945fa4d758eecfc9b36941f2d",
            "value": "<b>User:</b> could you references of source of your information?"
          }
        },
        "137de758796645a6a0a1e00a9736b46c": {
          "model_module": "@jupyter-widgets/base",
          "model_name": "LayoutModel",
          "model_module_version": "1.2.0",
          "state": {
            "_model_module": "@jupyter-widgets/base",
            "_model_module_version": "1.2.0",
            "_model_name": "LayoutModel",
            "_view_count": null,
            "_view_module": "@jupyter-widgets/base",
            "_view_module_version": "1.2.0",
            "_view_name": "LayoutView",
            "align_content": null,
            "align_items": null,
            "align_self": null,
            "border": null,
            "bottom": null,
            "display": null,
            "flex": null,
            "flex_flow": null,
            "grid_area": null,
            "grid_auto_columns": null,
            "grid_auto_flow": null,
            "grid_auto_rows": null,
            "grid_column": null,
            "grid_gap": null,
            "grid_row": null,
            "grid_template_areas": null,
            "grid_template_columns": null,
            "grid_template_rows": null,
            "height": null,
            "justify_content": null,
            "justify_items": null,
            "left": null,
            "margin": null,
            "max_height": null,
            "max_width": null,
            "min_height": null,
            "min_width": null,
            "object_fit": null,
            "object_position": null,
            "order": null,
            "overflow": null,
            "overflow_x": null,
            "overflow_y": null,
            "padding": null,
            "right": null,
            "top": null,
            "visibility": null,
            "width": null
          }
        },
        "cbdd867945fa4d758eecfc9b36941f2d": {
          "model_module": "@jupyter-widgets/controls",
          "model_name": "DescriptionStyleModel",
          "model_module_version": "1.5.0",
          "state": {
            "_model_module": "@jupyter-widgets/controls",
            "_model_module_version": "1.5.0",
            "_model_name": "DescriptionStyleModel",
            "_view_count": null,
            "_view_module": "@jupyter-widgets/base",
            "_view_module_version": "1.2.0",
            "_view_name": "StyleView",
            "description_width": ""
          }
        },
        "e5720302895043f9b565ff2efda49d8c": {
          "model_module": "@jupyter-widgets/controls",
          "model_name": "HTMLModel",
          "model_module_version": "1.5.0",
          "state": {
            "_dom_classes": [],
            "_model_module": "@jupyter-widgets/controls",
            "_model_module_version": "1.5.0",
            "_model_name": "HTMLModel",
            "_view_count": null,
            "_view_module": "@jupyter-widgets/controls",
            "_view_module_version": "1.5.0",
            "_view_name": "HTMLView",
            "description": "",
            "description_tooltip": null,
            "layout": "IPY_MODEL_d5af74a4c1434eb5955e6cd24562cb9b",
            "placeholder": "​",
            "style": "IPY_MODEL_27041c9eefc64a42b2cabc4f14ffdc0a",
            "value": "<b><font color=\"blue\">Chatbot:</font></b> The source of the information regarding the tectonic elements of the Andaman Basin is a paper titled \"Scope of Future Exploration in Andaman Basin, Genetically Linked with Producing Provinces\" by Subir Das and R.K. Srivastva. It was presented at the SEG International Exposition and 90th Annual Meeting in 2020."
          }
        },
        "d5af74a4c1434eb5955e6cd24562cb9b": {
          "model_module": "@jupyter-widgets/base",
          "model_name": "LayoutModel",
          "model_module_version": "1.2.0",
          "state": {
            "_model_module": "@jupyter-widgets/base",
            "_model_module_version": "1.2.0",
            "_model_name": "LayoutModel",
            "_view_count": null,
            "_view_module": "@jupyter-widgets/base",
            "_view_module_version": "1.2.0",
            "_view_name": "LayoutView",
            "align_content": null,
            "align_items": null,
            "align_self": null,
            "border": null,
            "bottom": null,
            "display": null,
            "flex": null,
            "flex_flow": null,
            "grid_area": null,
            "grid_auto_columns": null,
            "grid_auto_flow": null,
            "grid_auto_rows": null,
            "grid_column": null,
            "grid_gap": null,
            "grid_row": null,
            "grid_template_areas": null,
            "grid_template_columns": null,
            "grid_template_rows": null,
            "height": null,
            "justify_content": null,
            "justify_items": null,
            "left": null,
            "margin": null,
            "max_height": null,
            "max_width": null,
            "min_height": null,
            "min_width": null,
            "object_fit": null,
            "object_position": null,
            "order": null,
            "overflow": null,
            "overflow_x": null,
            "overflow_y": null,
            "padding": null,
            "right": null,
            "top": null,
            "visibility": null,
            "width": null
          }
        },
        "27041c9eefc64a42b2cabc4f14ffdc0a": {
          "model_module": "@jupyter-widgets/controls",
          "model_name": "DescriptionStyleModel",
          "model_module_version": "1.5.0",
          "state": {
            "_model_module": "@jupyter-widgets/controls",
            "_model_module_version": "1.5.0",
            "_model_name": "DescriptionStyleModel",
            "_view_count": null,
            "_view_module": "@jupyter-widgets/base",
            "_view_module_version": "1.2.0",
            "_view_name": "StyleView",
            "description_width": ""
          }
        }
      }
    }
  },
  "cells": [
    {
      "cell_type": "markdown",
      "metadata": {
        "id": "view-in-github",
        "colab_type": "text"
      },
      "source": [
        "<a href=\"https://colab.research.google.com/github/badaldutt09/streamlit-example/blob/master/Research_Assistant_AI_with_PDFs.ipynb\" target=\"_parent\"><img src=\"https://colab.research.google.com/assets/colab-badge.svg\" alt=\"Open In Colab\"/></a>"
      ]
    },
    {
      "cell_type": "markdown",
      "source": [
        "# 0. Installs, Imports and API Keys"
      ],
      "metadata": {
        "id": "Q24Y-g6h-Bg0"
      }
    },
    {
      "cell_type": "code",
      "source": [
        "# RUN THIS CELL FIRST!\n",
        "!pip install -q langchain==0.0.150 pypdf pandas matplotlib tiktoken textract transformers openai faiss-cpu"
      ],
      "metadata": {
        "id": "gk2J2sYYjTkM",
        "colab": {
          "base_uri": "https://localhost:8080/"
        },
        "outputId": "92f7949f-bbd9-4d56-faa7-c01f2be31184"
      },
      "execution_count": 1,
      "outputs": [
        {
          "output_type": "stream",
          "name": "stdout",
          "text": [
            "\u001b[2K     \u001b[90m━━━━━━━━━━━━━━━━━━━━━━━━━━━━━━━━━━━━━━━━\u001b[0m \u001b[32m648.4/648.4 kB\u001b[0m \u001b[31m8.8 MB/s\u001b[0m eta \u001b[36m0:00:00\u001b[0m\n",
            "\u001b[2K     \u001b[90m━━━━━━━━━━━━━━━━━━━━━━━━━━━━━━━━━━━━━━━━\u001b[0m \u001b[32m276.6/276.6 kB\u001b[0m \u001b[31m23.9 MB/s\u001b[0m eta \u001b[36m0:00:00\u001b[0m\n",
            "\u001b[2K     \u001b[90m━━━━━━━━━━━━━━━━━━━━━━━━━━━━━━━━━━━━━━━━\u001b[0m \u001b[32m2.0/2.0 MB\u001b[0m \u001b[31m43.1 MB/s\u001b[0m eta \u001b[36m0:00:00\u001b[0m\n",
            "\u001b[2K     \u001b[90m━━━━━━━━━━━━━━━━━━━━━━━━━━━━━━━━━━━━━━━━\u001b[0m \u001b[32m7.7/7.7 MB\u001b[0m \u001b[31m82.0 MB/s\u001b[0m eta \u001b[36m0:00:00\u001b[0m\n",
            "\u001b[2K     \u001b[90m━━━━━━━━━━━━━━━━━━━━━━━━━━━━━━━━━━━━━━━━\u001b[0m \u001b[32m77.0/77.0 kB\u001b[0m \u001b[31m7.6 MB/s\u001b[0m eta \u001b[36m0:00:00\u001b[0m\n",
            "\u001b[2K     \u001b[90m━━━━━━━━━━━━━━━━━━━━━━━━━━━━━━━━━━━━━━━━\u001b[0m \u001b[32m17.6/17.6 MB\u001b[0m \u001b[31m64.5 MB/s\u001b[0m eta \u001b[36m0:00:00\u001b[0m\n",
            "\u001b[2K     \u001b[90m━━━━━━━━━━━━━━━━━━━━━━━━━━━━━━━━━━━━━━━━\u001b[0m \u001b[32m90.0/90.0 kB\u001b[0m \u001b[31m9.8 MB/s\u001b[0m eta \u001b[36m0:00:00\u001b[0m\n",
            "\u001b[2K     \u001b[90m━━━━━━━━━━━━━━━━━━━━━━━━━━━━━━━━━━━━━━━━\u001b[0m \u001b[32m106.9/106.9 kB\u001b[0m \u001b[31m11.3 MB/s\u001b[0m eta \u001b[36m0:00:00\u001b[0m\n",
            "\u001b[2K     \u001b[90m━━━━━━━━━━━━━━━━━━━━━━━━━━━━━━━━━━━━━━━━\u001b[0m \u001b[32m133.4/133.4 kB\u001b[0m \u001b[31m13.3 MB/s\u001b[0m eta \u001b[36m0:00:00\u001b[0m\n",
            "\u001b[?25h  Preparing metadata (setup.py) ... \u001b[?25l\u001b[?25hdone\n",
            "\u001b[2K     \u001b[90m━━━━━━━━━━━━━━━━━━━━━━━━━━━━━━━━━━━━━━━━\u001b[0m \u001b[32m69.0/69.0 kB\u001b[0m \u001b[31m6.8 MB/s\u001b[0m eta \u001b[36m0:00:00\u001b[0m\n",
            "\u001b[2K     \u001b[90m━━━━━━━━━━━━━━━━━━━━━━━━━━━━━━━━━━━━━━━━\u001b[0m \u001b[32m5.6/5.6 MB\u001b[0m \u001b[31m93.2 MB/s\u001b[0m eta \u001b[36m0:00:00\u001b[0m\n",
            "\u001b[2K     \u001b[90m━━━━━━━━━━━━━━━━━━━━━━━━━━━━━━━━━━━━━━━━\u001b[0m \u001b[32m471.5/471.5 kB\u001b[0m \u001b[31m36.0 MB/s\u001b[0m eta \u001b[36m0:00:00\u001b[0m\n",
            "\u001b[2K     \u001b[90m━━━━━━━━━━━━━━━━━━━━━━━━━━━━━━━━━━━━━━━━\u001b[0m \u001b[32m32.8/32.8 MB\u001b[0m \u001b[31m16.4 MB/s\u001b[0m eta \u001b[36m0:00:00\u001b[0m\n",
            "\u001b[2K     \u001b[90m━━━━━━━━━━━━━━━━━━━━━━━━━━━━━━━━━━━━━━━━\u001b[0m \u001b[32m103.3/103.3 kB\u001b[0m \u001b[31m8.7 MB/s\u001b[0m eta \u001b[36m0:00:00\u001b[0m\n",
            "\u001b[2K     \u001b[90m━━━━━━━━━━━━━━━━━━━━━━━━━━━━━━━━━━━━━━━━\u001b[0m \u001b[32m2.1/2.1 MB\u001b[0m \u001b[31m46.8 MB/s\u001b[0m eta \u001b[36m0:00:00\u001b[0m\n",
            "\u001b[2K     \u001b[90m━━━━━━━━━━━━━━━━━━━━━━━━━━━━━━━━━━━━━━━━\u001b[0m \u001b[32m302.0/302.0 kB\u001b[0m \u001b[31m16.7 MB/s\u001b[0m eta \u001b[36m0:00:00\u001b[0m\n",
            "\u001b[2K     \u001b[90m━━━━━━━━━━━━━━━━━━━━━━━━━━━━━━━━━━━━━━━━\u001b[0m \u001b[32m3.8/3.8 MB\u001b[0m \u001b[31m33.2 MB/s\u001b[0m eta \u001b[36m0:00:00\u001b[0m\n",
            "\u001b[2K     \u001b[90m━━━━━━━━━━━━━━━━━━━━━━━━━━━━━━━━━━━━━━━━\u001b[0m \u001b[32m1.3/1.3 MB\u001b[0m \u001b[31m26.5 MB/s\u001b[0m eta \u001b[36m0:00:00\u001b[0m\n",
            "\u001b[2K     \u001b[90m━━━━━━━━━━━━━━━━━━━━━━━━━━━━━━━━━━━━━━━━\u001b[0m \u001b[32m49.4/49.4 kB\u001b[0m \u001b[31m3.0 MB/s\u001b[0m eta \u001b[36m0:00:00\u001b[0m\n",
            "\u001b[2K     \u001b[90m━━━━━━━━━━━━━━━━━━━━━━━━━━━━━━━━━━━━━━━━\u001b[0m \u001b[32m74.0/74.0 kB\u001b[0m \u001b[31m5.2 MB/s\u001b[0m eta \u001b[36m0:00:00\u001b[0m\n",
            "\u001b[2K     \u001b[90m━━━━━━━━━━━━━━━━━━━━━━━━━━━━━━━━━━━━━━━━\u001b[0m \u001b[32m112.2/112.2 kB\u001b[0m \u001b[31m6.2 MB/s\u001b[0m eta \u001b[36m0:00:00\u001b[0m\n",
            "\u001b[?25h  Preparing metadata (setup.py) ... \u001b[?25l\u001b[?25hdone\n",
            "  Preparing metadata (setup.py) ... \u001b[?25l\u001b[?25hdone\n",
            "\u001b[2K     \u001b[90m━━━━━━━━━━━━━━━━━━━━━━━━━━━━━━━━━━━━━━━━\u001b[0m \u001b[32m128.5/128.5 kB\u001b[0m \u001b[31m6.1 MB/s\u001b[0m eta \u001b[36m0:00:00\u001b[0m\n",
            "\u001b[2K     \u001b[90m━━━━━━━━━━━━━━━━━━━━━━━━━━━━━━━━━━━━━━━━\u001b[0m \u001b[32m154.8/154.8 kB\u001b[0m \u001b[31m13.1 MB/s\u001b[0m eta \u001b[36m0:00:00\u001b[0m\n",
            "\u001b[2K     \u001b[90m━━━━━━━━━━━━━━━━━━━━━━━━━━━━━━━━━━━━━━━━\u001b[0m \u001b[32m295.0/295.0 kB\u001b[0m \u001b[31m13.4 MB/s\u001b[0m eta \u001b[36m0:00:00\u001b[0m\n",
            "\u001b[?25h  Building wheel for docx2txt (setup.py) ... \u001b[?25l\u001b[?25hdone\n",
            "  Building wheel for compressed-rtf (setup.py) ... \u001b[?25l\u001b[?25hdone\n",
            "  Building wheel for olefile (setup.py) ... \u001b[?25l\u001b[?25hdone\n",
            "\u001b[31mERROR: pip's dependency resolver does not currently take into account all the packages that are installed. This behaviour is the source of the following dependency conflicts.\n",
            "lida 0.0.10 requires fastapi, which is not installed.\n",
            "lida 0.0.10 requires kaleido, which is not installed.\n",
            "lida 0.0.10 requires python-multipart, which is not installed.\n",
            "lida 0.0.10 requires uvicorn, which is not installed.\n",
            "llmx 0.0.15a0 requires cohere, which is not installed.\n",
            "pydrive2 1.6.3 requires six>=1.13.0, but you have six 1.12.0 which is incompatible.\n",
            "yfinance 0.2.31 requires beautifulsoup4>=4.11.1, but you have beautifulsoup4 4.8.2 which is incompatible.\u001b[0m\u001b[31m\n",
            "\u001b[0m"
          ]
        }
      ]
    },
    {
      "cell_type": "code",
      "source": [
        "!pip install openai"
      ],
      "metadata": {
        "colab": {
          "base_uri": "https://localhost:8080/"
        },
        "id": "JGhVPZceOqGI",
        "outputId": "c5d0eb04-f9df-4192-93ae-81a55b938253"
      },
      "execution_count": 4,
      "outputs": [
        {
          "output_type": "stream",
          "name": "stdout",
          "text": [
            "Requirement already satisfied: openai in /usr/local/lib/python3.10/dist-packages (0.28.1)\n",
            "Requirement already satisfied: requests>=2.20 in /usr/local/lib/python3.10/dist-packages (from openai) (2.31.0)\n",
            "Requirement already satisfied: tqdm in /usr/local/lib/python3.10/dist-packages (from openai) (4.66.1)\n",
            "Requirement already satisfied: aiohttp in /usr/local/lib/python3.10/dist-packages (from openai) (3.8.6)\n",
            "Requirement already satisfied: charset-normalizer<4,>=2 in /usr/local/lib/python3.10/dist-packages (from requests>=2.20->openai) (3.3.0)\n",
            "Requirement already satisfied: idna<4,>=2.5 in /usr/local/lib/python3.10/dist-packages (from requests>=2.20->openai) (3.4)\n",
            "Requirement already satisfied: urllib3<3,>=1.21.1 in /usr/local/lib/python3.10/dist-packages (from requests>=2.20->openai) (2.0.7)\n",
            "Requirement already satisfied: certifi>=2017.4.17 in /usr/local/lib/python3.10/dist-packages (from requests>=2.20->openai) (2023.7.22)\n",
            "Requirement already satisfied: attrs>=17.3.0 in /usr/local/lib/python3.10/dist-packages (from aiohttp->openai) (23.1.0)\n",
            "Requirement already satisfied: multidict<7.0,>=4.5 in /usr/local/lib/python3.10/dist-packages (from aiohttp->openai) (6.0.4)\n",
            "Requirement already satisfied: async-timeout<5.0,>=4.0.0a3 in /usr/local/lib/python3.10/dist-packages (from aiohttp->openai) (4.0.3)\n",
            "Requirement already satisfied: yarl<2.0,>=1.0 in /usr/local/lib/python3.10/dist-packages (from aiohttp->openai) (1.9.2)\n",
            "Requirement already satisfied: frozenlist>=1.1.1 in /usr/local/lib/python3.10/dist-packages (from aiohttp->openai) (1.4.0)\n",
            "Requirement already satisfied: aiosignal>=1.1.2 in /usr/local/lib/python3.10/dist-packages (from aiohttp->openai) (1.3.1)\n"
          ]
        }
      ]
    },
    {
      "cell_type": "code",
      "source": [
        "import os\n",
        "import pandas as pd\n",
        "import matplotlib.pyplot as plt\n",
        "from transformers import GPT2TokenizerFast\n",
        "from langchain.document_loaders import PyPDFLoader\n",
        "from langchain.text_splitter import RecursiveCharacterTextSplitter\n",
        "from langchain.embeddings import OpenAIEmbeddings\n",
        "from langchain.vectorstores import FAISS\n",
        "from langchain.chains.question_answering import load_qa_chain\n",
        "from langchain.llms import OpenAI\n",
        "from langchain.chat_models import ChatOpenAI\n",
        "from langchain.chains import ConversationalRetrievalChain"
      ],
      "metadata": {
        "id": "l-uszlwN641q"
      },
      "execution_count": 5,
      "outputs": []
    },
    {
      "cell_type": "code",
      "source": [
        "os.environ[\"OPENAI_API_KEY\"] = \"fe51611c5a00406baa1d7325c8684d87\""
      ],
      "metadata": {
        "id": "E2Buv5Y0uFr8"
      },
      "execution_count": 6,
      "outputs": []
    },
    {
      "cell_type": "code",
      "source": [
        "#importing open ai resource\n",
        "import openai\n",
        "import json\n",
        "# Set OpenAI API configuration\n",
        "openai.api_key = \"fe51611c5a00406baa1d7325c8684d87\"\n",
        "openai.api_type =\"azure\"\n",
        "openai.api_base = \"https://iocl-oai.openai.azure.com/\"\n",
        "openai.api_version =\"2023-07-01-preview\"\n",
        "engine=\"gpt_35_turbo_16k\""
      ],
      "metadata": {
        "id": "vtNofmMSd-jr"
      },
      "execution_count": 20,
      "outputs": []
    },
    {
      "cell_type": "markdown",
      "source": [
        "# 1. Loading PDFs and chunking with LangChain"
      ],
      "metadata": {
        "id": "RLULMPXa-Hu8"
      }
    },
    {
      "cell_type": "code",
      "source": [
        "# You MUST add your PDF to local files in this notebook (folder icon on left hand side of screen)\n",
        "\n",
        "# Simple method - Split by pages\n",
        "loader = PyPDFLoader(\"/content/Global Oil and gas news.pdf\")\n",
        "pages = loader.load_and_split()\n",
        "print(pages[0])\n",
        "\n",
        "# SKIP TO STEP 2 IF YOU'RE USING THIS METHOD\n",
        "chunks = pages"
      ],
      "metadata": {
        "colab": {
          "base_uri": "https://localhost:8080/"
        },
        "id": "KH546j3nkFwX",
        "outputId": "ee2b0561-be0b-4cda-a177-fbd8f901415d"
      },
      "execution_count": null,
      "outputs": [
        {
          "output_type": "stream",
          "name": "stdout",
          "text": [
            "page_content='Angola to maintain crude output at 1.1 million bpd into 2024  \\n... not normally found with oil discoveries. The gas produced..., the chief \\nexecutive of Azule Energy, Angola\\'s largest private oil and gas...  \\nOCTOBER 19, 2023 06:18AM EDT  \\nResidents demonstrate against Royal Dutch Shell\\'s plans to start seismic...  \\nShell\\'s court battle over S.Africa energy exploration delayed -lawyer \\n... to allow Shell to explore for oil and gas off South Africa\\'s pristine \\nWild... Africa, a local unit of privately held Impact Oil and Gas...  \\nOCTOBER 18, 2023 05:15AM EDT  \\nNo gas finds after dri lling at Lebanon\\'s offshore Block 9 -source \\n..., meaning no oil or gas had been found. Block 9 is one of the blocks... \\nminister had told Reuters on Wednesday. Lebanon hopes gas and oil...  \\nOCTOBER 13, 2023 10:39AM EDT  \\nUPDATE 1 -No gas finds after drilling at  Lebanon\\'s offshore Block 9 -source \\n... drilling, meaning no oil or gas had been found. Block 9 is one... \\nenergy minister had told Reuters on Wednesday. Lebanon hopes gas and oil...  \\nOCTOBER 13, 2023 10:36AM EDT  \\nNamibia sees first oil from offshore discover ies by 2030  \\n... to produce any oil and gas, has attracted strong interest from \\ninternational...CAPE TOWN (Reuters) - Namibia expects the first oil from \\nmajor...  \\nOCTOBER 11, 2023 05:40AM EDT  \\nREUTERS NEWS SCHEDULE AT 10:00 p.m. GMT/6:00 a.m. SGT  \\n... Prize in  Chemistry for their discovery of tiny clusters of atoms \\nknown... on anything from migration to gas, and plotting to install PiS’s \\nmain... \\nOCTOBER 04, 2023 06:01PM EDT  \\nPetrobras to invest some $300 mln to drill two Potiguar Basin wells - exec \\n... frontier for oil and gas exploration. \"The rig arrived in Rio de... the \\neconomic viability and the extent of an oil discovery made in 2013...  \\nOCTOBER 03, 2023 08:13AM EDT  \\nFILE PHOTO: Logo of French oil and gas company TotalEnergies in La Defense  \\nSouth Africa gives go-ahead for TotalEnergies to drill offshore  \\n... for gas and oil, after rejecting an appeal from more than a dozen... \\nexploring for new offshore discoveries at the foot of Africa. It sought...  \\nOCTOBER 02, 2023 10:56AM EDT  \\nUPDATE 2 -South Africa gives go -ahead for TotalEnergies to drill offshore  \\n... offshore for gas and oil, after rejecting an appeal from more than a \\ndozen... companies exploring for new offshore discoveries at the foot of \\nAfrica...  \\nOCTOBER 02, 2023 10:56AM EDT  \\nLNG 2023 energy trade show in Vancouver  \\nEni boosts Indonesia exposure w ith big gas discovery  \\n... announced on Monday a big gas discovery in Indonesia, opening the \\ndoor... of Indonesia\\'s upstream oil and gas regulator, SKK Migas, said...  \\nOCTOBER 02, 2023 05:26AM EDT  \\nUPDATE 1 -Eni boosts Indonesia exposure with big gas discovery  \\n...(Adds comments from Indonesia oil and gas regulator, details... group \\nEni announced on Monday a big gas discovery in Indonesia, opening...  \\nOCTOBER 02, 2023 05:24AM EDT  \\n \\nRising oil prices boost US drilling, producer costs rise -Dallas Fed  \\n...By Curtis W illiams HOUSTON (Reuters) - Oil and gas activity..., the \\nhighest since July 2022. The bank\\'s index of oil and gas...  \\nSEPTEMBER 27, 2023 12:53PM EDT  \\nUPDATE 2 -Rising oil prices boost US drilling, producer costs rise -Dallas \\nFed \\n... HOUSTON, Sept 27 (Reuters)  - Oil and gas activity in three key \\nenergy... July 2022. The bank\\'s index of oil and gas production activity \\nclimbed...  \\nSEPTEMBER 27, 2023 12:43PM EDT' metadata={'source': '/content/Global Oil and gas news.pdf', 'page': 0}\n"
          ]
        }
      ]
    },
    {
      "cell_type": "code",
      "source": [
        "# Advanced method - Split by chunk\n",
        "\n",
        "# Step 1: Convert PDF to text\n",
        "import textract\n",
        "\n",
        "# List of PDF file paths\n",
        "pdf_files = [\"/content/Andaman Sea - Seismic Exploration De-Risking.pdf\", \"/content/SCOPE TOC-of-future-exploration-in-andaman-basin-jaipur-2015.pdf\"]\n",
        "\n",
        "# Iterate through each PDF and extract text\n",
        "text = \"\"\n",
        "for pdf_file in pdf_files:\n",
        "    doc = textract.process(pdf_file)\n",
        "    text += doc.decode('utf-8')\n",
        "\n",
        "# Step 2: Save the extracted text to a single .txt file\n",
        "with open('pdftext.txt', 'w', encoding='utf-8') as f:\n",
        "    f.write(text)\n",
        "\n",
        "# If you want to read the text from the file, you can do so:\n",
        "with open('pdftext.txt', 'r', encoding='utf-8') as f:\n",
        "    text = f.read()\n",
        "\n",
        "# Step 3: Create function to count tokens\n",
        "tokenizer = GPT2TokenizerFast.from_pretrained(\"gpt2\")\n",
        "\n",
        "def count_tokens(text: str) -> int:\n",
        "    return len(tokenizer.encode(text))\n",
        "\n",
        "# Step 4: Split text into chunks\n",
        "text_splitter = RecursiveCharacterTextSplitter(\n",
        "    # Set a really small chunk size, just to show.\n",
        "    chunk_size = 1500,\n",
        "    chunk_overlap  = 50,\n",
        "    length_function = count_tokens,\n",
        ")\n",
        "\n",
        "chunks = text_splitter.create_documents([text])"
      ],
      "metadata": {
        "id": "iADY2CXNlNq9"
      },
      "execution_count": 16,
      "outputs": []
    },
    {
      "cell_type": "code",
      "source": [
        "# Result is many LangChain 'Documents' around 500 tokens or less (Recursive splitter sometimes allows more tokens to retain context)\n",
        "type(chunks[0])\n",
        "len(chunks)"
      ],
      "metadata": {
        "colab": {
          "base_uri": "https://localhost:8080/"
        },
        "id": "KQ_gDkwep4q7",
        "outputId": "95165411-4102-4aa3-9751-599a684beb84"
      },
      "execution_count": 17,
      "outputs": [
        {
          "output_type": "execute_result",
          "data": {
            "text/plain": [
              "10"
            ]
          },
          "metadata": {},
          "execution_count": 17
        }
      ]
    },
    {
      "cell_type": "code",
      "source": [
        "# Quick data visualization to ensure chunking was successful\n",
        "\n",
        "# Create a list of token counts\n",
        "token_counts = [count_tokens(chunk.page_content) for chunk in chunks]\n",
        "\n",
        "# Create a DataFrame from the token counts\n",
        "df = pd.DataFrame({'Token Count': token_counts})\n",
        "\n",
        "# Create a histogram of the token count distribution\n",
        "df.hist(bins=40, )\n",
        "\n",
        "# Show the plot\n",
        "plt.show()"
      ],
      "metadata": {
        "colab": {
          "base_uri": "https://localhost:8080/",
          "height": 489
        },
        "id": "fK31bxDOpz1l",
        "outputId": "e4d9e8d4-5e3f-4e52-d600-e0d79b5ad6d2"
      },
      "execution_count": 18,
      "outputs": [
        {
          "output_type": "stream",
          "name": "stderr",
          "text": [
            "Token indices sequence length is longer than the specified maximum sequence length for this model (1419 > 1024). Running this sequence through the model will result in indexing errors\n"
          ]
        },
        {
          "output_type": "display_data",
          "data": {
            "text/plain": [
              "<Figure size 640x480 with 1 Axes>"
            ],
            "image/png": "[encoded data removed]"
          },
          "metadata": {}
        }
      ]
    },
    {
      "cell_type": "markdown",
      "source": [
        "# 2. Embed text and store embeddings"
      ],
      "metadata": {
        "id": "_IlznUDK-i2m"
      }
    },
    {
      "cell_type": "code",
      "source": [
        "import faiss\n",
        "# Get embedding model\n",
        "embeddings = OpenAIEmbeddings()\n",
        "\n",
        "# Create vector database\n",
        "db = FAISS.from_documents(chunks, embeddings)"
      ],
      "metadata": {
        "id": "92ObhTAKnZzQ"
      },
      "execution_count": 21,
      "outputs": []
    },
    {
      "cell_type": "code",
      "source": [
        "db"
      ],
      "metadata": {
        "colab": {
          "base_uri": "https://localhost:8080/"
        },
        "id": "L4fAN6ZcFe-C",
        "outputId": "b14a94c9-8888-40c2-86e0-858e886dcb20"
      },
      "execution_count": null,
      "outputs": [
        {
          "output_type": "execute_result",
          "data": {
            "text/plain": [
              "<langchain.vectorstores.faiss.FAISS at 0x7e559e3ced10>"
            ]
          },
          "metadata": {},
          "execution_count": 21
        }
      ]
    },
    {
      "cell_type": "markdown",
      "source": [
        "# 3. Setup retrieval function"
      ],
      "metadata": {
        "id": "2LPwdGDP-nPO"
      }
    },
    {
      "cell_type": "code",
      "source": [
        "# Check similarity search is working\n",
        "query = \"What countries have oil and gas disocveries?\"\n",
        "docs = db.similarity_search(query)\n",
        "docs[0]"
      ],
      "metadata": {
        "colab": {
          "base_uri": "https://localhost:8080/"
        },
        "id": "RWP92zGg5Nb_",
        "outputId": "f1ac0a90-2802-47e7-e920-7d785590f0ba"
      },
      "execution_count": 22,
      "outputs": [
        {
          "output_type": "execute_result",
          "data": {
            "text/plain": [
              "Document(page_content='© 2020 Society of Exploration Geophysicists\\n\\nSEG International Exposition and 90th Annual Meeting\\n\\n\\x0c \\n\\nAndaman Sea - Seismic Exploration De-Risking \\n\\nlarge  carbonate  feature.  This  carbonate  platform  formed \\nduring Late Oligocene and Early Miocene, drowned below \\nsea-level  during  the  mid-Miocene.  By  contrast,  in  the \\nCentral Andaman region, the reservoirs of the Yetagun Gas \\nField are siliciclastics and the field is situated in the located \\nin the back-arc region. In the southern part of Andaman Sea \\nanother  major  carbonate  field  is  the  Arun  Gas  Field, \\nstraddling  from  onshore  North  Sumatra  and  extending \\noffshore. Still in the shallow waters off South Sumatra the \\nNSO Field nearby is another discovery in the back-arc. . The \\nfield  produces  from  Miocene  carbonates,  although  it  is  a \\nsmaller carbonate platform when compared with the larger \\nArun  gas  field,  a  giant  hydrocarbon  resource  that  has \\ndelivered Liquefied Natural Gas (LNG) to Asia since 1978.  \\n \\n\\nBank, the Tertiary Central Basin which is part of the back-\\narc and the eastern Shan Plateau of Myanmar  which is the  \\nsite of the older Mesozoic and Paleozoic rocks (Figure 2). Its \\nmain  tectonic  and  geologic  evolutionary  episodes  may  be \\nsummarized as follows (Curray, 2005; Mohan et al; 2006): \\n \\n\\uf0b7  The  Andaman  Sea  opened  during  the  Cenozoic  by  a \\nsuccession  of  extensional  episodes.  Back-arc  extension \\nnormal to the trend of the subduction zone combined with \\nstrike-slip faulting started in the Eocene and subsequently \\nformed the fore-arc, volcanic arc and back-arc basins.  \\n\\n\\uf0b7  Due to the collision of India with Asia, the alignments of \\nthe  northern  Sunda  region  subduction  zone  rotated  in  a \\nclockwise  direction  affecting  the  structuring  of  the \\nAndaman Sea. \\n\\n\\uf0b7  In the fore-arc western margin there is a deep “pond- fill” \\n\\nbordered  by  a  large  vertical  normal  fault  known  as  the   \\nDiligent Fault.  \\n\\n\\uf0b7  The  eastern  margin  of  the  “pond-fill”  is  marked  by  the \\nWest Andaman Fault. To the east of this fault, there is a \\nlarge central volcanic arc split in the Mio-Pliocene by a \\nspreading  center,  with  the  development  of  one  of  the \\nlargest world ocean faults, the Sagaing Fault.  \\n\\n\\uf0b7  In  the  back-arc  the  north  and  south  regions  are  quite \\ndistinctive,  the  Mergui  sub-basin  developed  in  between \\ntwo prominent ridges.  \\n\\n \\nDuring  the  tectonic  development  of  Andaman  Sea,  crustal \\nthinning resulted from the northward drift of the Indian Plate \\nforming  a  shallow  “sag  basin”,  the  syn-rift.  With  the \\ncontinued  northward  drift  of  the  Indian  Plate,  rifting  and \\nopening  of  the  Andaman  Sea  basins  (North  Sumatra, \\nMergui,  and  Martaban  basins)  occurred  during  the  early \\nOligocene,  with  accreted  plate  fragments  forming  the \\nMergui Ridge and the prominent Central Horst.  Rifting and \\nopening continued in the Early Miocene, filling the Mergui \\nand  North  Sumatra  basins  whereas  tectonic  quiescence \\nperiods  gave  rise  to  the  formation  of  several  slowly \\nsubsiding  carbonate  platform  margins  The  continued \\nmovement  of  the  Indian  and  Burma  Plates  initiated  the \\nopening of the modern Andaman basin in the Mid-Miocene.  \\n\\n \\n\\nExploration History \\n \\nExploration efforts in the Andaman Sea yielded significant \\ngas production mainly from carbonate reservoirs (Arun Gas \\nField, Yadana Gas Field and NSO Gas Field), however there \\nwas  also  a  significant  production  from  clastic  reservoirs \\nthese in the Yetagun Gas Field. The potential for significant \\nun-discovered resources still exist in these are indicated by \\nanalyses of modern seismic as opposed to legacy data (e.g. \\nFigure 3). In the fore-arc basin the major gas producer is on \\nthe northern part of the Andaman Sea, the Yadana Gas Field \\noffshore Myanmar, This discovery  was  made in 1980 with \\nbasis on vintage seismic that nonetheless delineated a very \\n\\nin \\n\\n \\nthe \\nFigure  3:  Significant  hydrocarbon  production \\nAndaman Sea and North Sumatra are annotated in the fore-\\narc  (northern  Andaman)  and  in  the  back-arc  (central  and \\nsouthern Andaman) areas. The Yadana Gas Field is situated \\nin  the  North  Andaman  Fore-Arc  Basin  off  Myanmar, \\nwhereas  the  Yetagun  Gas  Field  is  situated  in  the  Central \\nAndaman Sea Back-Arc Basin. Towards south, the gas fields \\noff  North  Sumatra,  the  Arun  Gas  Field  and  the  NSO  Gas \\nField  are  also  situated  in  the  back-arc.  To  note  the  large \\nSagaing Fault feature splitting the volcanic ridges.   \\n\\nl\\n\\nD\\no\\nw\\nn\\no\\na\\nd\\ne\\nd\\n\\n \\nf\\nr\\no\\nm\\nh\\n\\n \\n\\nt\\nt\\n\\np\\n\\n:\\n/\\n/\\n\\n.\\n\\n/', metadata={})"
            ]
          },
          "metadata": {},
          "execution_count": 22
        }
      ]
    },
    {
      "cell_type": "code",
      "source": [
        "# Set OpenAI API configuration\n",
        "os.environ[\"OPENAI_API_KEY\"] = \"fe51611c5a00406baa1d7325c8684d87\"\n",
        "os.environ[\"Openai.Api_Type\"] =\"azure\"\n",
        "os.environ[\"Openai_Api_Base\"] = \"https://iocl-oai.openai.azure.com/\"\n",
        "os.environ[\"Openai_Api_Version\"] =\"2023-07-01-preview\"\n",
        "os.environ[\"Engine\"]=\"gpt_35_turbo_16k\""
      ],
      "metadata": {
        "id": "QYXduaNEHVkc"
      },
      "execution_count": null,
      "outputs": []
    },
    {
      "cell_type": "code",
      "source": [
        "from langchain.chains.question_answering import load_qa_chain\n",
        "from langchain.llms import OpenAI\n"
      ],
      "metadata": {
        "id": "FfsrlK5BXoky"
      },
      "execution_count": 23,
      "outputs": []
    },
    {
      "cell_type": "markdown",
      "source": [
        "# 4. Integrating Similarity search with user Queries"
      ],
      "metadata": {
        "id": "9t68kdUPg9n9"
      }
    },
    {
      "cell_type": "code",
      "source": [
        "# Create QA chain to integrate similarity search with user queries (answer query from knowledge base)\n",
        "\n",
        "engine=\"gpt_35_turbo_16k\"\n",
        "chain = load_qa_chain(ChatOpenAI(engine=engine, temperature=0.5, max_tokens=500),chain_type=\"stuff\")\n",
        "\n",
        "query = \"What countries have oil and gas disocveries?\"\n",
        "docs = db.similarity_search(query)\n",
        "\n",
        "chain.run(input_documents=docs, question=query)"
      ],
      "metadata": {
        "colab": {
          "base_uri": "https://localhost:8080/",
          "height": 87
        },
        "id": "AeQhg13ESxzC",
        "outputId": "d4d84377-c4c6-4243-942b-73c9e7e7e458"
      },
      "execution_count": 24,
      "outputs": [
        {
          "output_type": "execute_result",
          "data": {
            "text/plain": [
              "'Based on the provided context, the Andaman Sea region has significant oil and gas discoveries. Specifically, the countries with oil and gas discoveries in the Andaman Sea include:\\n\\n1. Myanmar (Burma): The Yadana Gas Field and the Yetagun Gas Field are located offshore Myanmar in the Andaman Sea.\\n\\n2. Indonesia: The Arun Gas Field and the NSO Gas Field are located offshore North Sumatra in the Andaman Sea.\\n\\nThese discoveries have led to the production of natural gas, including the export of liquefied natural gas (LNG) to Asia.'"
            ],
            "application/vnd.google.colaboratory.intrinsic+json": {
              "type": "string"
            }
          },
          "metadata": {},
          "execution_count": 24
        }
      ]
    },
    {
      "cell_type": "markdown",
      "source": [
        "# 5. Chatbot with chat memory"
      ],
      "metadata": {
        "id": "U_nH1qoL-w--"
      }
    },
    {
      "cell_type": "code",
      "source": [
        "from IPython.display import display\n",
        "import ipywidgets as widgets\n",
        "\n",
        "# Create conversation chain that uses our vectordb as retriver, this also allows for chat history management\n",
        "qa = ConversationalRetrievalChain.from_llm(ChatOpenAI(temperature=0.1, engine=engine), db.as_retriever())"
      ],
      "metadata": {
        "id": "evF7_Dyhtcaf"
      },
      "execution_count": 25,
      "outputs": []
    },
    {
      "cell_type": "code",
      "source": [
        "chat_history = []\n",
        "\n",
        "def on_submit(_):\n",
        "    query = input_box.value\n",
        "    input_box.value = \"\"\n",
        "\n",
        "    if query.lower() == 'exit':\n",
        "        print(\"Thank you for using the State of the Union chatbot!\")\n",
        "        return\n",
        "\n",
        "    result = qa({\"question\": query, \"chat_history\": chat_history})\n",
        "    chat_history.append((query, result['answer']))\n",
        "\n",
        "    display(widgets.HTML(f'<b>User:</b> {query}'))\n",
        "    display(widgets.HTML(f'<b><font color=\"blue\">Chatbot:</font></b> {result[\"answer\"]}'))\n",
        "\n",
        "print(\"Welcome to the Research Assitant chatbot! Type 'exit' to stop.\")\n",
        "\n",
        "input_box = widgets.Text(placeholder='Please enter your question:')\n",
        "input_box.on_submit(on_submit)\n",
        "\n",
        "display(input_box)"
      ],
      "metadata": {
        "id": "-pHw5siewPNt",
        "colab": {
          "base_uri": "https://localhost:8080/",
          "height": 354,
          "referenced_widgets": [
            "38f8c758050342b38fa79ec97c445678",
            "2ced69eb248f4267acb1a1a671448f05",
            "07128b25c41d4576b364e18ba05c92f6",
            "9bf0e61cc32e467190e3c8e0808ca407",
            "c37cc415f0de41ce873bafacc7ff00ba",
            "276bbbc4fbc3444993ab861f5c7a233e",
            "8fd90e16d1754bb99b53e71b540f4e78",
            "7dae3aae892140eb9579bbd742262a5d",
            "c195bfdd2e3648d6aa2026b5b7859fac",
            "8c6c9975c561437e933d682823fadc98",
            "137de758796645a6a0a1e00a9736b46c",
            "cbdd867945fa4d758eecfc9b36941f2d",
            "e5720302895043f9b565ff2efda49d8c",
            "d5af74a4c1434eb5955e6cd24562cb9b",
            "27041c9eefc64a42b2cabc4f14ffdc0a"
          ]
        },
        "outputId": "7ceac073-cd5b-461d-cf62-5d0d30694e82"
      },
      "execution_count": 27,
      "outputs": [
        {
          "output_type": "stream",
          "name": "stdout",
          "text": [
            "Welcome to the Research Assitant chatbot! Type 'exit' to stop.\n"
          ]
        },
        {
          "output_type": "display_data",
          "data": {
            "text/plain": [
              "Text(value='', placeholder='Please enter your question:')"
            ],
            "application/vnd.jupyter.widget-view+json": {
              "version_major": 2,
              "version_minor": 0,
              "model_id": "38f8c758050342b38fa79ec97c445678"
            }
          },
          "metadata": {}
        },
        {
          "output_type": "display_data",
          "data": {
            "text/plain": [
              "HTML(value='<b>User:</b> What are tectonic elements of Andaman Bsain')"
            ],
            "application/vnd.jupyter.widget-view+json": {
              "version_major": 2,
              "version_minor": 0,
              "model_id": "9bf0e61cc32e467190e3c8e0808ca407"
            }
          },
          "metadata": {}
        },
        {
          "output_type": "display_data",
          "data": {
            "text/plain": [
              "HTML(value='<b><font color=\"blue\">Chatbot:</font></b> The tectonic elements of the Andaman Basin include:\\n\\n1…"
            ],
            "application/vnd.jupyter.widget-view+json": {
              "version_major": 2,
              "version_minor": 0,
              "model_id": "8fd90e16d1754bb99b53e71b540f4e78"
            }
          },
          "metadata": {}
        },
        {
          "output_type": "display_data",
          "data": {
            "text/plain": [
              "HTML(value='<b>User:</b> could you references of source of your information?')"
            ],
            "application/vnd.jupyter.widget-view+json": {
              "version_major": 2,
              "version_minor": 0,
              "model_id": "8c6c9975c561437e933d682823fadc98"
            }
          },
          "metadata": {}
        },
        {
          "output_type": "display_data",
          "data": {
            "text/plain": [
              "HTML(value='<b><font color=\"blue\">Chatbot:</font></b> The source of the information regarding the tectonic ele…"
            ],
            "application/vnd.jupyter.widget-view+json": {
              "version_major": 2,
              "version_minor": 0,
              "model_id": "e5720302895043f9b565ff2efda49d8c"
            }
          },
          "metadata": {}
        }
      ]
    }
  ]
}